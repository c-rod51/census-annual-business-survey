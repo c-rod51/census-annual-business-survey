{
 "cells": [
  {
   "cell_type": "markdown",
   "id": "2264b3b5",
   "metadata": {},
   "source": [
    "# ETL Report for Census Annual Business Survey\n",
    "## Introduction\n",
    "Every year The United States Census Bureau conducts their [Annual Business Survey (ABS)](https://www.census.gov/programs-surveys/abs/about.html) electronically. It provides information on selected economic and demographic characteristics for businesses and business owners by sex, ethnicity, race, and veteran status.\n",
    "\n",
    "In this project, we use the ABS to learn more about demographics in The United States' businesses.\n",
    "### Data Sources\n",
    "All of our data was sourced from The United States Census Bureau [2019 Annual Business Survey](https://www.census.gov/data/developers/data-sets/abs.2019.html) by calling their APIs:\n",
    "* [Company Summary](https://api.census.gov/data/2018/abscs.html)\n",
    "* [Characteristics of Businesses](https://api.census.gov/data/2018/abscb.html)\n",
    "* [Characteristics of Business Owners](https://api.census.gov/data/2018/abscbo.html)\n",
    "* [Technology Characteristics of Businesses](https://api.census.gov/data/2018/abstcb.html)\n",
    "\n",
    "Below you will find an outline for the Extract, Transform, and Load (ETL) process for the data."
   ]
  },
  {
   "cell_type": "markdown",
   "id": "b5b96fc8",
   "metadata": {},
   "source": [
    "## Extract\n",
    "1. Import the `api_key` from the config file in order to run API requests\n",
    "2. Set up API requests with appropriate links, formatting the `api_key`\n",
    "3. Call the API for each request and store the outcome as a DataFrame using `API2DataFrame`"
   ]
  },
  {
   "cell_type": "code",
   "execution_count": 1,
   "id": "c2b75c56",
   "metadata": {},
   "outputs": [],
   "source": [
    "#import relevant libraries\n",
    "import requests\n",
    "from config import api_key\n",
    "import json\n",
    "import pandas as pd\n",
    "from matplotlib import pyplot as plt"
   ]
  },
  {
   "cell_type": "code",
   "execution_count": 2,
   "id": "a79466b9",
   "metadata": {},
   "outputs": [],
   "source": [
    "#URLs\n",
    "business_owner_url = f'https://api.census.gov/data/2018/abscbo?get=GEO_ID,NAME,NAICS2017,NAICS2017_LABEL,OWNER_SEX,OWNER_SEX_LABEL,OWNER_ETH,OWNER_ETH_LABEL,OWNER_RACE,OWNER_RACE_LABEL,OWNER_VET,OWNER_VET_LABEL,QDESC,QDESC_LABEL,OWNCHAR,OWNCHAR_LABEL,YEAR,OWNPDEMP,OWNPDEMP_F,OWNPDEMP_PCT,OWNPDEMP_PCT_F,OWNPDEMP_S,OWNPDEMP_S_F,OWNPDEMP_PCT_S,OWNPDEMP_PCT_S_F&for=us:*&for=QDESC_LABEL=ACQBUS&key={api_key}'\n",
    "\n",
    "business_characteristics_url = f'https://api.census.gov/data/2018/abscb?get=GEO_ID,NAME,NAICS2017,NAICS2017_LABEL,SEX,SEX_LABEL,ETH_GROUP,ETH_GROUP_LABEL,RACE_GROUP,RACE_GROUP_LABEL,VET_GROUP,VET_GROUP_LABEL,QDESC,QDESC_LABEL,BUSCHAR,BUSCHAR_LABEL,YEAR,FIRMPDEMP,FIRMPDEMP_F,FIRMPDEMP_PCT,FIRMPDEMP_PCT_F,RCPPDEMP,RCPPDEMP_F,RCPPDEMP_PCT,RCPPDEMP_PCT_F,EMP,EMP_F,EMP_PCT,EMP_PCT_F,PAYANN,PAYANN_F,PAYANN_PCT,PAYANN_PCT_F,FIRMPDEMP_S,FIRMPDEMP_S_F,FIRMPDEMP_PCT_S,FIRMPDEMP_PCT_S_F,RCPPDEMP_S,RCPPDEMP_S_F,RCPPDEMP_PCT_S,RCPPDEMP_PCT_S_F,EMP_S,EMP_S_F,EMP_PCT_S,EMP_PCT_S_F,PAYANN_S,PAYANN_S_F,PAYANN_PCT_S,PAYANN_PCT_S_F&for=us:*&for=QDESC_LABEL=SPOUSES&key={api_key}'\n",
    "\n",
    "company_summary_url = f'https://api.census.gov/data/2018/abscs?get=GEO_ID,NAME,NAICS2017,NAICS2017_LABEL,SEX,SEX_LABEL,ETH_GROUP,ETH_GROUP_LABEL,RACE_GROUP,RACE_GROUP_LABEL,VET_GROUP,VET_GROUP_LABEL,EMPSZFI,EMPSZFI_LABEL,YEAR,FIRMPDEMP,FIRMPDEMP_F,RCPPDEMP,RCPPDEMP_F,EMP,EMP_F,PAYANN,PAYANN_F,FIRMPDEMP_S,FIRMPDEMP_S_F,RCPPDEMP_S,RCPPDEMP_S_F,EMP_S,EMP_S_F,PAYANN_S,PAYANN_S_F&for=us:*&key={api_key}'\n",
    "\n",
    "state_company_summary_url = f'https://api.census.gov/data/2017/abscs?get=GEO_ID,NAME,NAICS2017,NAICS2017_LABEL,SEX,SEX_LABEL,ETH_GROUP,ETH_GROUP_LABEL,RACE_GROUP,RACE_GROUP_LABEL,VET_GROUP,VET_GROUP_LABEL,EMPSZFI,EMPSZFI_LABEL,YEAR,FIRMPDEMP,FIRMPDEMP_F,RCPPDEMP,RCPPDEMP_F,EMP,EMP_F,PAYANN,PAYANN_F,FIRMPDEMP_S,FIRMPDEMP_S_F,RCPPDEMP_S,RCPPDEMP_S_F,EMP_S,EMP_S_F,PAYANN_S,PAYANN_S_F&for=state:*&key={api_key}'\n",
    "\n",
    "tech_characteristics_url = f'https://api.census.gov/data/2018/abstcb?get=GEO_ID,NAME,NAICS2017,NAICS2017_LABEL,SEX,SEX_LABEL,ETH_GROUP,ETH_GROUP_LABEL,RACE_GROUP,RACE_GROUP_LABEL,VET_GROUP,VET_GROUP_LABEL,NSFSZFI,NSFSZFI_LABEL,FACTORS_P,FACTORS_P_LABEL,YEAR,FIRMPDEMP,FIRMPDEMP_F,FIRMPDEMP_PCT,FIRMPDEMP_PCT_F,RCPPDEMP,RCPPDEMP_F,RCPPDEMP_PCT,RCPPDEMP_PCT_F,EMP,EMP_F,EMP_PCT,EMP_PCT_F,PAYANN,PAYANN_F,PAYANN_PCT,PAYANN_PCT_F,FIRMPDEMP_S,FIRMPDEMP_S_F,FIRMPDEMP_PCT_S,FIRMPDEMP_PCT_S_F,RCPPDEMP_S,RCPPDEMP_S_F,RCPPDEMP_PCT_S,RCPPDEMP_PCT_S_F,EMP_S,EMP_S_F,EMP_PCT_S,EMP_PCT_S_F,PAYANN_S,PAYANN_S_F,PAYANN_PCT_S,PAYANN_PCT_S_F&for=us:*&key={api_key}'"
   ]
  },
  {
   "cell_type": "code",
   "execution_count": 3,
   "id": "a6872953",
   "metadata": {},
   "outputs": [],
   "source": [
    "def API2DataFrame(url):\n",
    "    '''\n",
    "    url: str\n",
    "    \n",
    "    takes in url for API and returns a pandas DataFrame\n",
    "    '''\n",
    "    #Gather data from the API\n",
    "    response = requests.get(url)\n",
    "    #turn into json\n",
    "    response = response.json()\n",
    "    #Load data into DataFrame\n",
    "    df = pd.DataFrame(data = response[1:], columns = response[0])\n",
    "    \n",
    "    return df"
   ]
  },
  {
   "cell_type": "markdown",
   "id": "b61c8348",
   "metadata": {},
   "source": [
    "Let's begin by calling from the API and loading the data into a `pandas` DataFrame"
   ]
  },
  {
   "cell_type": "code",
   "execution_count": 4,
   "id": "149619cf",
   "metadata": {},
   "outputs": [],
   "source": [
    "#DataFrames\n",
    "business_owner_characteristics_raw = API2DataFrame(business_owner_url)"
   ]
  },
  {
   "cell_type": "code",
   "execution_count": 5,
   "id": "a74e5a13",
   "metadata": {},
   "outputs": [],
   "source": [
    "\n",
    "business_characteristics_raw = API2DataFrame(business_characteristics_url)"
   ]
  },
  {
   "cell_type": "code",
   "execution_count": 6,
   "id": "770eead0",
   "metadata": {},
   "outputs": [],
   "source": [
    "\n",
    "company_summary_raw = API2DataFrame(company_summary_url)"
   ]
  },
  {
   "cell_type": "code",
   "execution_count": 7,
   "id": "9f1f8b81",
   "metadata": {},
   "outputs": [],
   "source": [
    "#uncomment to load state data -- note: it is a lengthy API call\n",
    "#state_company_summary_raw = API2DataFrame(state_company_summary_url)"
   ]
  },
  {
   "cell_type": "code",
   "execution_count": 8,
   "id": "943ba30d",
   "metadata": {},
   "outputs": [],
   "source": [
    "tech_characteristics_raw = API2DataFrame(tech_characteristics_url)"
   ]
  },
  {
   "cell_type": "markdown",
   "id": "d245e8f5",
   "metadata": {},
   "source": [
    "## Transform\n",
    "1. Remove unwanted data columns from the DataFrame (different for each)\n",
    "2. Drop columns and rows where all entries are NA\n",
    "3. Remove records where there is a 'withheld' flag (see D flag in [ABS Documentation](https://www2.census.gov/programs-surveys/abs/technical-documentation/api/ABS_API_CBO-1-26-2021.pdf))\n",
    "4. After filtering flags appropriately, drop flag columns\n",
    "\n",
    "These steps can all be done by calling `cleanDataFrame()` and feeding it:\n",
    "* `dataframe` : a `pandas` DataFrame (e.g. those pre-loaded in the Extract step above)\n",
    "* `drop_columns` : a list of columns to be dropped from the DataFrame\n",
    "* `filter_columns` : a list of columns to check for flags and filter\n",
    "* `rename_cols` : a dictionary of the columns to be renamed along with their new name\n",
    "\n",
    "The function will then return a cleaned DataFrame"
   ]
  },
  {
   "cell_type": "code",
   "execution_count": 9,
   "id": "16a073d5",
   "metadata": {},
   "outputs": [],
   "source": [
    "def cleanDataFrame(dataframe, drop_columns = [], filter_columns = [], rename_cols = {}):\n",
    "    '''\n",
    "    Takes in a pandas dataframe and drops unwanted columns and cleans data according to flag/filters\n",
    "    \n",
    "    Parameters\n",
    "    ----------\n",
    "    dataframe: a pandas DataFrame\n",
    "    \n",
    "    drop_columns: list of columns to be dropped from dataframe\n",
    "    \n",
    "    filter_columns: list of columns that act as filter/flags for the record\n",
    "    \n",
    "    Returns\n",
    "    --------\n",
    "    dataframe : the cleaned dataset as a pandas dataframe\n",
    "    \n",
    "    '''\n",
    "    \n",
    "    #Remove unwanted columns\n",
    "    dataframe = dataframe.drop(columns = drop_columns)\n",
    "    \n",
    "    #Remove all columns and rows that have all null values\n",
    "    dataframe.dropna(axis='columns', how='all',inplace=True)\n",
    "    dataframe.dropna(axis='rows', how='all',inplace=True)\n",
    "    \n",
    "    #Remove all records where there is a D flag\n",
    "    for column in filter_columns:\n",
    "        #Remove records for one flag at a time\n",
    "        dataframe.drop(dataframe.loc[dataframe[column] == 'D'].index, inplace=True)\n",
    "        \n",
    "    #After filtering flags, we can remove flag columns\n",
    "    dataframe.drop(columns = filter_columns, inplace = True)\n",
    "    \n",
    "    #Rename the columns to something more intutitive\n",
    "    dataframe.rename(columns = rename_cols, inplace=True)\n",
    "    \n",
    "    #Change numeric columns to int or float\n",
    "    for col in dataframe.columns:\n",
    "        if ('Percentage' or 'Pay' or 'Revenue') in col:\n",
    "            dataframe[col] = dataframe[col].astype(float)\n",
    "        elif ('Number' or 'Size') in col:\n",
    "            dataframe[col] = dataframe[col].astype(int)\n",
    "    \n",
    "    \n",
    "    \n",
    "    return dataframe\n",
    "    "
   ]
  },
  {
   "cell_type": "markdown",
   "id": "61f7155e",
   "metadata": {},
   "source": [
    "## Business Owner Characteristics"
   ]
  },
  {
   "cell_type": "code",
   "execution_count": 10,
   "id": "689c4964",
   "metadata": {},
   "outputs": [
    {
     "name": "stdout",
     "output_type": "stream",
     "text": [
      "<class 'pandas.core.frame.DataFrame'>\n",
      "RangeIndex: 104622 entries, 0 to 104621\n",
      "Data columns (total 26 columns):\n",
      " #   Column            Non-Null Count   Dtype \n",
      "---  ------            --------------   ----- \n",
      " 0   GEO_ID            104622 non-null  object\n",
      " 1   NAME              104622 non-null  object\n",
      " 2   NAICS2017         104622 non-null  object\n",
      " 3   NAICS2017_LABEL   104622 non-null  object\n",
      " 4   OWNER_SEX         104622 non-null  object\n",
      " 5   OWNER_SEX_LABEL   104622 non-null  object\n",
      " 6   OWNER_ETH         104622 non-null  object\n",
      " 7   OWNER_ETH_LABEL   104622 non-null  object\n",
      " 8   OWNER_RACE        104622 non-null  object\n",
      " 9   OWNER_RACE_LABEL  104622 non-null  object\n",
      " 10  OWNER_VET         104622 non-null  object\n",
      " 11  OWNER_VET_LABEL   104622 non-null  object\n",
      " 12  QDESC             104622 non-null  object\n",
      " 13  QDESC_LABEL       104622 non-null  object\n",
      " 14  OWNCHAR           104622 non-null  object\n",
      " 15  OWNCHAR_LABEL     104622 non-null  object\n",
      " 16  YEAR              104622 non-null  object\n",
      " 17  OWNPDEMP          104622 non-null  object\n",
      " 18  OWNPDEMP_F        12058 non-null   object\n",
      " 19  OWNPDEMP_PCT      104622 non-null  object\n",
      " 20  OWNPDEMP_PCT_F    19836 non-null   object\n",
      " 21  OWNPDEMP_S        104622 non-null  object\n",
      " 22  OWNPDEMP_S_F      12058 non-null   object\n",
      " 23  OWNPDEMP_PCT_S    104622 non-null  object\n",
      " 24  OWNPDEMP_PCT_S_F  19836 non-null   object\n",
      " 25  us                104622 non-null  object\n",
      "dtypes: object(26)\n",
      "memory usage: 20.8+ MB\n"
     ]
    }
   ],
   "source": [
    "business_owner_characteristics_raw.info()"
   ]
  },
  {
   "cell_type": "markdown",
   "id": "23ea8cd2",
   "metadata": {},
   "source": [
    "You may notice that some of these columns have codes and are repeated with labels. Let's go ahead and remove the columns that do not add to the data/are redundant"
   ]
  },
  {
   "cell_type": "code",
   "execution_count": 11,
   "id": "3b8e28f7",
   "metadata": {},
   "outputs": [],
   "source": [
    "# For each data frame, we'll want to drop specific columns\n",
    "# Business owner characteristics: GEO_ID, NAICS2017, OWNER_SEX, OWNER_ETH, OWNER_RACE, OWNER_VET, QDESC, OWNCHAR, YEAR, state\n",
    "drop_columns = ['GEO_ID', 'NAICS2017', 'OWNER_SEX', 'OWNER_ETH', 'OWNER_RACE',\n",
    "                'OWNER_VET', 'QDESC', 'OWNCHAR', 'YEAR', 'OWNPDEMP_PCT_S', 'OWNPDEMP_S', 'us']\n",
    "\n",
    "flag_columns = ['OWNPDEMP_F', 'OWNPDEMP_PCT_F', 'OWNPDEMP_S_F', 'OWNPDEMP_PCT_S_F']\n",
    "\n",
    "renaming = {\n",
    "    'NAME' : 'Region',\n",
    "    'NAICS2017_LABEL' : 'IndustrySector',\n",
    "    'OWNER_SEX_LABEL' : 'OwnerSex',\n",
    "    'OWNER_ETH_LABEL' : 'OwnerEthnicity',\n",
    "    'OWNER_RACE_LABEL' : 'OwnerRace',\n",
    "    'OWNER_VET_LABEL' : 'VeteranStatus',\n",
    "    'QDESC_LABEL' : 'QuestionDescription',\n",
    "    'OWNCHAR_LABEL' : 'OwnerResp',\n",
    "    'OWNPDEMP' : 'NumberOfOwners',\n",
    "    'OWNPDEMP_PCT' : 'PercentageOfOwners',\n",
    "}\n",
    "\n",
    "business_owner_characteristics = cleanDataFrame(\n",
    "    business_owner_characteristics_raw, drop_columns = drop_columns,\n",
    "    filter_columns = flag_columns, rename_cols = renaming\n",
    ")"
   ]
  },
  {
   "cell_type": "code",
   "execution_count": null,
   "id": "34b98bbc",
   "metadata": {},
   "outputs": [],
   "source": []
  },
  {
   "cell_type": "code",
   "execution_count": 12,
   "id": "a35915b3",
   "metadata": {},
   "outputs": [
    {
     "name": "stdout",
     "output_type": "stream",
     "text": [
      "<class 'pandas.core.frame.DataFrame'>\n",
      "Int64Index: 92564 entries, 0 to 104621\n",
      "Data columns (total 10 columns):\n",
      " #   Column               Non-Null Count  Dtype  \n",
      "---  ------               --------------  -----  \n",
      " 0   Region               92564 non-null  object \n",
      " 1   IndustrySector       92564 non-null  object \n",
      " 2   OwnerSex             92564 non-null  object \n",
      " 3   OwnerEthnicity       92564 non-null  object \n",
      " 4   OwnerRace            92564 non-null  object \n",
      " 5   VeteranStatus        92564 non-null  object \n",
      " 6   QuestionDescription  92564 non-null  object \n",
      " 7   OwnerResp            92564 non-null  object \n",
      " 8   NumberOfOwners       92564 non-null  int32  \n",
      " 9   PercentageOfOwners   92564 non-null  float64\n",
      "dtypes: float64(1), int32(1), object(8)\n",
      "memory usage: 7.4+ MB\n"
     ]
    }
   ],
   "source": [
    "business_owner_characteristics.info()"
   ]
  },
  {
   "cell_type": "markdown",
   "id": "a594c047",
   "metadata": {},
   "source": [
    "## Business Characteristics"
   ]
  },
  {
   "cell_type": "code",
   "execution_count": 13,
   "id": "ed19582b",
   "metadata": {},
   "outputs": [
    {
     "name": "stdout",
     "output_type": "stream",
     "text": [
      "<class 'pandas.core.frame.DataFrame'>\n",
      "RangeIndex: 48737 entries, 0 to 48736\n",
      "Data columns (total 50 columns):\n",
      " #   Column             Non-Null Count  Dtype \n",
      "---  ------             --------------  ----- \n",
      " 0   GEO_ID             48737 non-null  object\n",
      " 1   NAME               48737 non-null  object\n",
      " 2   NAICS2017          48737 non-null  object\n",
      " 3   NAICS2017_LABEL    48737 non-null  object\n",
      " 4   SEX                48737 non-null  object\n",
      " 5   SEX_LABEL          48737 non-null  object\n",
      " 6   ETH_GROUP          48737 non-null  object\n",
      " 7   ETH_GROUP_LABEL    48737 non-null  object\n",
      " 8   RACE_GROUP         48737 non-null  object\n",
      " 9   RACE_GROUP_LABEL   48737 non-null  object\n",
      " 10  VET_GROUP          48737 non-null  object\n",
      " 11  VET_GROUP_LABEL    48737 non-null  object\n",
      " 12  QDESC              48737 non-null  object\n",
      " 13  QDESC_LABEL        48737 non-null  object\n",
      " 14  BUSCHAR            48737 non-null  object\n",
      " 15  BUSCHAR_LABEL      48737 non-null  object\n",
      " 16  YEAR               48737 non-null  object\n",
      " 17  FIRMPDEMP          48737 non-null  object\n",
      " 18  FIRMPDEMP_F        15772 non-null  object\n",
      " 19  FIRMPDEMP_PCT      48737 non-null  object\n",
      " 20  FIRMPDEMP_PCT_F    26250 non-null  object\n",
      " 21  RCPPDEMP           48737 non-null  object\n",
      " 22  RCPPDEMP_F         45812 non-null  object\n",
      " 23  RCPPDEMP_PCT       48737 non-null  object\n",
      " 24  RCPPDEMP_PCT_F     46752 non-null  object\n",
      " 25  EMP                48737 non-null  object\n",
      " 26  EMP_F              15772 non-null  object\n",
      " 27  EMP_PCT            48737 non-null  object\n",
      " 28  EMP_PCT_F          26250 non-null  object\n",
      " 29  PAYANN             48737 non-null  object\n",
      " 30  PAYANN_F           15772 non-null  object\n",
      " 31  PAYANN_PCT         48737 non-null  object\n",
      " 32  PAYANN_PCT_F       26250 non-null  object\n",
      " 33  FIRMPDEMP_S        48737 non-null  object\n",
      " 34  FIRMPDEMP_S_F      15772 non-null  object\n",
      " 35  FIRMPDEMP_PCT_S    48737 non-null  object\n",
      " 36  FIRMPDEMP_PCT_S_F  26250 non-null  object\n",
      " 37  RCPPDEMP_S         48737 non-null  object\n",
      " 38  RCPPDEMP_S_F       45812 non-null  object\n",
      " 39  RCPPDEMP_PCT_S     48737 non-null  object\n",
      " 40  RCPPDEMP_PCT_S_F   46752 non-null  object\n",
      " 41  EMP_S              48737 non-null  object\n",
      " 42  EMP_S_F            15772 non-null  object\n",
      " 43  EMP_PCT_S          48737 non-null  object\n",
      " 44  EMP_PCT_S_F        26250 non-null  object\n",
      " 45  PAYANN_S           48737 non-null  object\n",
      " 46  PAYANN_S_F         15772 non-null  object\n",
      " 47  PAYANN_PCT_S       48737 non-null  object\n",
      " 48  PAYANN_PCT_S_F     26250 non-null  object\n",
      " 49  us                 48737 non-null  object\n",
      "dtypes: object(50)\n",
      "memory usage: 18.6+ MB\n"
     ]
    }
   ],
   "source": [
    "business_characteristics_raw.info()"
   ]
  },
  {
   "cell_type": "markdown",
   "id": "264c777d",
   "metadata": {},
   "source": [
    "You may notice that some of these columns have codes and are repeated with labels. Let's go ahead and remove the columns that do not add to the data/are redundant"
   ]
  },
  {
   "cell_type": "code",
   "execution_count": 14,
   "id": "4915ee29",
   "metadata": {},
   "outputs": [],
   "source": [
    "# For each data frame, we'll want to drop specific columns\n",
    "# Business characteristics: GEO_ID, NAICS2017, SEX, ETH_GROUP, RACE_GROUP, VET_GROUP, QDESC, BUSCHAR, YEAR, us\n",
    "drop_columns = ['GEO_ID', 'NAICS2017', 'SEX', 'ETH_GROUP', 'RACE_GROUP', 'VET_GROUP', 'QDESC', 'BUSCHAR', 'YEAR',\n",
    "                'FIRMPDEMP_S', 'FIRMPDEMP_PCT_S', 'RCPPDEMP_S', 'RCPPDEMP_PCT_S', 'EMP_S', 'EMP_PCT_S', 'PAYANN_S',\n",
    "                'PAYANN_PCT_S', 'us']\n",
    "flag_columns = ['FIRMPDEMP_F', 'FIRMPDEMP_PCT_F', 'RCPPDEMP_F', 'RCPPDEMP_PCT_F', 'EMP_F', 'EMP_PCT_F', 'PAYANN_F',\n",
    "                'PAYANN_PCT_F', 'FIRMPDEMP_S_F', 'FIRMPDEMP_PCT_S_F', 'RCPPDEMP_S_F', 'RCPPDEMP_PCT_S_F', 'EMP_S_F',\n",
    "                'EMP_PCT_S_F', 'PAYANN_S_F', 'PAYANN_PCT_S_F']\n",
    "\n",
    "renaming = {\n",
    "    'NAME' : 'Region',\n",
    "    'NAICS2017_LABEL' : 'IndustrySector',\n",
    "    'SEX_LABEL' : 'Sex',\n",
    "    'ETH_GROUP_LABEL' : 'Ethnicity',\n",
    "    'RACE_GROUP_LABEL': 'Race',\n",
    "    'VET_GROUP_LABEL': 'VeteranStatus',\n",
    "    'QDESC_LABEL': 'QuestionDescription',\n",
    "    'BUSCHAR_LABEL': 'SurveyQuestionChoice',\n",
    "    'FIRMPDEMP': 'NumberOfRespondents',\n",
    "    'FIRMPDEMP_PCT': 'PercentageOfRespondentsInCategory',\n",
    "    'RCPPDEMP': 'RevenueOfAllFirmsInCategory',\n",
    "    'RCPPDEMP_PCT': 'PercentageOfRevenueOfAllFirmsInCategory',\n",
    "    'EMP': 'NumberOfEmployeesOfAllFirmsInCategory',\n",
    "    'EMP_PCT': 'PercentageOfEmployees',\n",
    "    'PAYANN': 'AnnualPay',\n",
    "    'PAYANN_PCT': 'PercentageOfAnnualPay'\n",
    "}\n",
    "\n",
    "\n",
    "business_characteristics = cleanDataFrame(business_characteristics_raw, drop_columns = drop_columns, filter_columns = flag_columns, rename_cols = renaming)"
   ]
  },
  {
   "cell_type": "markdown",
   "id": "0ae50cbf",
   "metadata": {},
   "source": [
    "## Company Summary"
   ]
  },
  {
   "cell_type": "code",
   "execution_count": 15,
   "id": "b25834a1",
   "metadata": {},
   "outputs": [
    {
     "name": "stdout",
     "output_type": "stream",
     "text": [
      "<class 'pandas.core.frame.DataFrame'>\n",
      "RangeIndex: 19458 entries, 0 to 19457\n",
      "Data columns (total 32 columns):\n",
      " #   Column            Non-Null Count  Dtype \n",
      "---  ------            --------------  ----- \n",
      " 0   GEO_ID            19458 non-null  object\n",
      " 1   NAME              19458 non-null  object\n",
      " 2   NAICS2017         19458 non-null  object\n",
      " 3   NAICS2017_LABEL   19458 non-null  object\n",
      " 4   SEX               19458 non-null  object\n",
      " 5   SEX_LABEL         19458 non-null  object\n",
      " 6   ETH_GROUP         19458 non-null  object\n",
      " 7   ETH_GROUP_LABEL   19458 non-null  object\n",
      " 8   RACE_GROUP        19458 non-null  object\n",
      " 9   RACE_GROUP_LABEL  19458 non-null  object\n",
      " 10  VET_GROUP         19458 non-null  object\n",
      " 11  VET_GROUP_LABEL   19458 non-null  object\n",
      " 12  EMPSZFI           19458 non-null  object\n",
      " 13  EMPSZFI_LABEL     19458 non-null  object\n",
      " 14  YEAR              19458 non-null  object\n",
      " 15  FIRMPDEMP         19458 non-null  object\n",
      " 16  FIRMPDEMP_F       7516 non-null   object\n",
      " 17  RCPPDEMP          19458 non-null  object\n",
      " 18  RCPPDEMP_F        18498 non-null  object\n",
      " 19  EMP               19458 non-null  object\n",
      " 20  EMP_F             7516 non-null   object\n",
      " 21  PAYANN            19458 non-null  object\n",
      " 22  PAYANN_F          7516 non-null   object\n",
      " 23  FIRMPDEMP_S       19458 non-null  object\n",
      " 24  FIRMPDEMP_S_F     7516 non-null   object\n",
      " 25  RCPPDEMP_S        19458 non-null  object\n",
      " 26  RCPPDEMP_S_F      18498 non-null  object\n",
      " 27  EMP_S             19458 non-null  object\n",
      " 28  EMP_S_F           7516 non-null   object\n",
      " 29  PAYANN_S          19458 non-null  object\n",
      " 30  PAYANN_S_F        7516 non-null   object\n",
      " 31  us                19458 non-null  object\n",
      "dtypes: object(32)\n",
      "memory usage: 4.8+ MB\n"
     ]
    }
   ],
   "source": [
    "company_summary_raw.info()"
   ]
  },
  {
   "cell_type": "code",
   "execution_count": 16,
   "id": "a96d48f6",
   "metadata": {},
   "outputs": [],
   "source": [
    "# For each data frame, we'll want to drop specific columns\n",
    "# company summary: GEO_ID, NAICS2017, SEX, ETH_GROUP, RACE_GROUP, VET_GROUP, EMPSZFI, YEAR, us\n",
    "drop_columns = ['GEO_ID', 'NAICS2017', 'SEX', 'ETH_GROUP', 'RACE_GROUP', 'VET_GROUP', 'EMPSZFI', 'YEAR',\n",
    "                'FIRMPDEMP_S', 'RCPPDEMP_S', 'EMP_S', 'PAYANN_S', 'us']\n",
    "flag_columns = ['FIRMPDEMP_F', 'RCPPDEMP_F', 'EMP_F', 'PAYANN_F', 'FIRMPDEMP_S_F', 'RCPPDEMP_S_F', 'EMP_S_F', 'PAYANN_S_F']\n",
    "\n",
    "renaming = {\n",
    "    'NAME' : 'Region',\n",
    "    'NAICS2017_LABEL' : 'IndustrySector',\n",
    "    'SEX_LABEL' : 'Sex',\n",
    "    'ETH_GROUP_LABEL' : 'Ethnicity',\n",
    "    'RACE_GROUP_LABEL': 'Race',\n",
    "    'VET_GROUP_LABEL' : 'VeteranStatus',\n",
    "    'EMPSZFI_LABEL' : 'SizeOfFirm',\n",
    "    'FIRMPDEMP' : 'NumberOfRespondents',\n",
    "    'RCPPDEMP' : 'TotalRevenueOfFirmsInCategory',\n",
    "    'EMP' : 'NumberOfEmployeesInCategory',\n",
    "    'PAYANN' : 'AnnualPayroll',\n",
    "}\n",
    "\n",
    "company_summary = cleanDataFrame(company_summary_raw,\n",
    "                                 drop_columns = drop_columns, filter_columns = flag_columns, rename_cols = renaming)"
   ]
  },
  {
   "cell_type": "markdown",
   "id": "e01038a9",
   "metadata": {},
   "source": [
    "## State Company Summary"
   ]
  },
  {
   "cell_type": "code",
   "execution_count": 17,
   "id": "554d4446",
   "metadata": {},
   "outputs": [],
   "source": [
    "#uncomment if using State data\n",
    "#state_company_summary_raw.info()"
   ]
  },
  {
   "cell_type": "code",
   "execution_count": 18,
   "id": "3f0739de",
   "metadata": {},
   "outputs": [],
   "source": [
    "# For each data frame, we'll want to drop specific columns\n",
    "# state company summary: GEO_ID, NAICS2017, SEX, ETH_GROUP, RACE_GROUP, VET_GROUP, EMPSZFI, YEAR, us\n",
    "\n",
    "#Can uncomment block of code below if running state data\n",
    "# drop_columns = ['GEO_ID', 'NAICS2017', 'SEX', 'ETH_GROUP', 'RACE_GROUP', 'VET_GROUP', 'EMPSZFI', 'YEAR',\n",
    "#                 'FIRMPDEMP_S', 'RCPPDEMP_S', 'EMP_S', 'PAYANN_S', 'state']\n",
    "# flag_columns = ['FIRMPDEMP_F', 'RCPPDEMP_F', 'EMP_F', 'PAYANN_F', 'FIRMPDEMP_S_F', 'RCPPDEMP_S_F', 'EMP_S_F', 'PAYANN_S_F']\n",
    "\n",
    "# renaming = {\n",
    "#     'NAME' : 'Region',\n",
    "#     'NAICS2017_LABEL' : 'IndustrySector',\n",
    "#     'SEX_LABEL' : 'Sex',\n",
    "#     'ETH_GROUP_LABEL' : 'Ethnicity',\n",
    "#     'RACE_GROUP_LABEL': 'Race',\n",
    "#     'VET_GROUP_LABEL' : 'VeteranStatus',\n",
    "#     'EMPSZFI_LABEL' : 'SizeOfFirm',\n",
    "#     'FIRMPDEMP' : 'NumberOfRespondents',\n",
    "#     'RCPPDEMP' : 'TotalRevenueOfFirmsInCategory',\n",
    "#     'EMP' : 'NumberOfEmployeesInCategory',\n",
    "#     'PAYANN' : 'AnnualPayroll',\n",
    "# }\n",
    "\n",
    "# state_company_summary = cleanDataFrame(state_company_summary_raw,\n",
    "#                                  drop_columns = drop_columns, filter_columns = flag_columns, rename_cols = renaming)"
   ]
  },
  {
   "cell_type": "markdown",
   "id": "6ec7d239",
   "metadata": {},
   "source": [
    "## Technology Characteristics of Businesses"
   ]
  },
  {
   "cell_type": "code",
   "execution_count": 19,
   "id": "0ada1c81",
   "metadata": {},
   "outputs": [
    {
     "name": "stdout",
     "output_type": "stream",
     "text": [
      "<class 'pandas.core.frame.DataFrame'>\n",
      "RangeIndex: 5500 entries, 0 to 5499\n",
      "Data columns (total 50 columns):\n",
      " #   Column             Non-Null Count  Dtype \n",
      "---  ------             --------------  ----- \n",
      " 0   GEO_ID             5500 non-null   object\n",
      " 1   NAME               5500 non-null   object\n",
      " 2   NAICS2017          5500 non-null   object\n",
      " 3   NAICS2017_LABEL    5500 non-null   object\n",
      " 4   SEX                5500 non-null   object\n",
      " 5   SEX_LABEL          5500 non-null   object\n",
      " 6   ETH_GROUP          5500 non-null   object\n",
      " 7   ETH_GROUP_LABEL    5500 non-null   object\n",
      " 8   RACE_GROUP         5500 non-null   object\n",
      " 9   RACE_GROUP_LABEL   5500 non-null   object\n",
      " 10  VET_GROUP          5500 non-null   object\n",
      " 11  VET_GROUP_LABEL    5500 non-null   object\n",
      " 12  NSFSZFI            5500 non-null   object\n",
      " 13  NSFSZFI_LABEL      5500 non-null   object\n",
      " 14  FACTORS_P          5500 non-null   object\n",
      " 15  FACTORS_P_LABEL    5500 non-null   object\n",
      " 16  YEAR               5500 non-null   object\n",
      " 17  FIRMPDEMP          5500 non-null   object\n",
      " 18  FIRMPDEMP_F        796 non-null    object\n",
      " 19  FIRMPDEMP_PCT      5500 non-null   object\n",
      " 20  FIRMPDEMP_PCT_F    796 non-null    object\n",
      " 21  RCPPDEMP           5500 non-null   object\n",
      " 22  RCPPDEMP_F         1835 non-null   object\n",
      " 23  RCPPDEMP_PCT       5500 non-null   object\n",
      " 24  RCPPDEMP_PCT_F     1835 non-null   object\n",
      " 25  EMP                5500 non-null   object\n",
      " 26  EMP_F              796 non-null    object\n",
      " 27  EMP_PCT            5500 non-null   object\n",
      " 28  EMP_PCT_F          796 non-null    object\n",
      " 29  PAYANN             5500 non-null   object\n",
      " 30  PAYANN_F           796 non-null    object\n",
      " 31  PAYANN_PCT         5500 non-null   object\n",
      " 32  PAYANN_PCT_F       796 non-null    object\n",
      " 33  FIRMPDEMP_S        5500 non-null   object\n",
      " 34  FIRMPDEMP_S_F      796 non-null    object\n",
      " 35  FIRMPDEMP_PCT_S    5500 non-null   object\n",
      " 36  FIRMPDEMP_PCT_S_F  796 non-null    object\n",
      " 37  RCPPDEMP_S         5500 non-null   object\n",
      " 38  RCPPDEMP_S_F       1835 non-null   object\n",
      " 39  RCPPDEMP_PCT_S     5500 non-null   object\n",
      " 40  RCPPDEMP_PCT_S_F   1835 non-null   object\n",
      " 41  EMP_S              5500 non-null   object\n",
      " 42  EMP_S_F            796 non-null    object\n",
      " 43  EMP_PCT_S          5500 non-null   object\n",
      " 44  EMP_PCT_S_F        796 non-null    object\n",
      " 45  PAYANN_S           5500 non-null   object\n",
      " 46  PAYANN_S_F         796 non-null    object\n",
      " 47  PAYANN_PCT_S       5500 non-null   object\n",
      " 48  PAYANN_PCT_S_F     796 non-null    object\n",
      " 49  us                 5500 non-null   object\n",
      "dtypes: object(50)\n",
      "memory usage: 2.1+ MB\n"
     ]
    }
   ],
   "source": [
    "tech_characteristics_raw.info()"
   ]
  },
  {
   "cell_type": "code",
   "execution_count": 20,
   "id": "4ab22543",
   "metadata": {},
   "outputs": [],
   "source": [
    "# For each data frame, we'll want to drop specific columns\n",
    "# company summary: GEO_ID, NAICS2017, SEX, ETH_GROUP, RACE_GROUP, VET_GROUP, EMPSZFI, YEAR, us\n",
    "drop_columns = ['GEO_ID', 'NAICS2017', 'SEX', 'ETH_GROUP', 'RACE_GROUP', 'VET_GROUP', 'NSFSZFI', 'YEAR',\n",
    "                'FIRMPDEMP_S', 'RCPPDEMP_S', 'EMP_S', 'PAYANN_S', 'us']\n",
    "flag_columns = ['FIRMPDEMP_F', 'RCPPDEMP_F', 'EMP_F', 'PAYANN_F', 'FIRMPDEMP_S_F', 'RCPPDEMP_S_F', 'EMP_S_F', 'PAYANN_S_F']\n",
    "\n",
    "renaming = {\n",
    "    'NAME' : 'Region',\n",
    "    'NAICS2017_LABEL' : 'IndustrySector',\n",
    "    'SEX_LABEL' : 'Sex',\n",
    "    'ETH_GROUP_LABEL' : 'Ethnicity',\n",
    "    'RACE_GROUP_LABEL': 'Race',\n",
    "    'VET_GROUP_LABEL' : 'VeteranStatus',\n",
    "    'NSFSZFI_LABEL' : 'SizeOfFirm',\n",
    "    'FIRMPDEMP' : 'NumberOfRespondents',\n",
    "    'RCPPDEMP' : 'TotalRevenueOfFirmsInCategory',\n",
    "    'EMP' : 'NumberOfEmployeesInCategory',\n",
    "    'PAYANN' : 'AnnualPayroll',\n",
    "}\n",
    "\n",
    "tech_characteristics = cleanDataFrame(tech_characteristics_raw,\n",
    "                                 drop_columns = drop_columns, filter_columns = flag_columns, rename_cols = renaming)"
   ]
  },
  {
   "cell_type": "markdown",
   "id": "2b431670",
   "metadata": {},
   "source": [
    "## Load\n",
    "Load the data to CSV files to be read in by the visualizations notebook"
   ]
  },
  {
   "cell_type": "code",
   "execution_count": 21,
   "id": "628b7582",
   "metadata": {},
   "outputs": [],
   "source": [
    "business_owner_characteristics.to_csv(r'Data\\business_owner_characteristics.csv')"
   ]
  },
  {
   "cell_type": "code",
   "execution_count": 22,
   "id": "5b6c3de7",
   "metadata": {},
   "outputs": [],
   "source": [
    "business_characteristics.to_csv(r'Data\\business_characteristics.csv')"
   ]
  },
  {
   "cell_type": "code",
   "execution_count": 23,
   "id": "06dd7f36",
   "metadata": {},
   "outputs": [],
   "source": [
    "company_summary.to_csv(r'Data\\company_summary.csv')"
   ]
  },
  {
   "cell_type": "code",
   "execution_count": 24,
   "id": "1e996dc4",
   "metadata": {},
   "outputs": [],
   "source": [
    "#uncomment to save state data\n",
    "#state_company_summary.to_csv(r'Data\\state_company_summary.csv')"
   ]
  },
  {
   "cell_type": "code",
   "execution_count": 25,
   "id": "f1a8df18",
   "metadata": {},
   "outputs": [],
   "source": [
    "tech_characteristics.to_csv(r'Data\\tech_characteristics.csv')"
   ]
  },
  {
   "cell_type": "code",
   "execution_count": null,
   "id": "fc4f5a6b",
   "metadata": {},
   "outputs": [],
   "source": []
  }
 ],
 "metadata": {
  "kernelspec": {
   "display_name": "Python 3 (ipykernel)",
   "language": "python",
   "name": "python3"
  },
  "language_info": {
   "codemirror_mode": {
    "name": "ipython",
    "version": 3
   },
   "file_extension": ".py",
   "mimetype": "text/x-python",
   "name": "python",
   "nbconvert_exporter": "python",
   "pygments_lexer": "ipython3",
   "version": "3.9.12"
  }
 },
 "nbformat": 4,
 "nbformat_minor": 5
}
