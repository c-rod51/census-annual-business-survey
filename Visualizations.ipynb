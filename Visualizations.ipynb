{
 "cells": [
  {
   "cell_type": "markdown",
   "id": "e588d828",
   "metadata": {},
   "source": [
    "# Visualizations for ABS\n",
    "Below is the code used to create the visualizations from the [2019 Annual Business Survey Data](https://www.census.gov/data/developers/data-sets/abs.2019.html)"
   ]
  },
  {
   "cell_type": "code",
   "execution_count": 1,
   "id": "26f07e60",
   "metadata": {},
   "outputs": [],
   "source": [
    "import pandas as pd\n",
    "from matplotlib import pyplot as plt\n",
    "import seaborn as sns"
   ]
  },
  {
   "cell_type": "code",
   "execution_count": 2,
   "id": "542b6c85",
   "metadata": {},
   "outputs": [],
   "source": [
    "#Load the DataFrames\n",
    "business_owner_characteristics = pd.read_csv(r'Data\\business_owner_characteristics.csv')\n",
    "\n",
    "business_characteristics = pd.read_csv(r'Data\\business_characteristics.csv')\n",
    "\n",
    "company_summary = pd.read_csv(r'Data\\company_summary.csv')\n",
    "\n",
    "#state_company_summary = pd.read_csv(r'Data\\state_company_summary.csv')\n",
    "\n",
    "tech_characteristics = pd.read_csv(r'Data\\tech_characteristics.csv')"
   ]
  },
  {
   "cell_type": "markdown",
   "id": "3f39a950",
   "metadata": {},
   "source": [
    "## Overall Owner Distributions Across all Industry Sectors\n",
    "Let's look at owner demographics for businesses across all industry sectors"
   ]
  },
  {
   "cell_type": "code",
   "execution_count": 3,
   "id": "7b726cd3",
   "metadata": {},
   "outputs": [],
   "source": [
    "business_owner_characteristics = business_owner_characteristics[business_owner_characteristics['IndustrySector'] == 'Total for all sectors']"
   ]
  },
  {
   "cell_type": "markdown",
   "id": "461c9238",
   "metadata": {},
   "source": [
    "If we wanted to look at the breakdown between hispanic and non-hispanic business owners, we could drill down to the data where all other categories includes aggregates except for the ethnicity"
   ]
  },
  {
   "cell_type": "code",
   "execution_count": 4,
   "id": "28581b9d",
   "metadata": {},
   "outputs": [],
   "source": [
    "business_owner_ethnicity = business_owner_characteristics[(business_owner_characteristics['OwnerSex'] == 'All owners of respondent firms')\n",
    "                              & (business_owner_characteristics['OwnerRace'] == 'All owners of respondent firms')\n",
    "                              & (business_owner_characteristics['VeteranStatus'] == 'All owners of respondent firms')\n",
    "                              & (business_owner_characteristics['OwnerResp'] == 'Total reporting')\n",
    "                              & (business_owner_characteristics['OwnerEthnicity'] != 'All owners of respondent firms')]"
   ]
  },
  {
   "cell_type": "markdown",
   "id": "3787128e",
   "metadata": {},
   "source": [
    "Since there are multiple questions (as seen by the QuestionDescription), we can aggregate the like values (Non/Hispanic) and get the mean to account for any variations in the differences between the number of responses for each question."
   ]
  },
  {
   "cell_type": "code",
   "execution_count": 5,
   "id": "db227d1f",
   "metadata": {},
   "outputs": [],
   "source": [
    "non_total_owner_ethnicity = business_owner_ethnicity.groupby('OwnerEthnicity')['NumberOfOwners'].mean()"
   ]
  },
  {
   "cell_type": "markdown",
   "id": "fd90ec6b",
   "metadata": {},
   "source": [
    "Plotting the data"
   ]
  },
  {
   "cell_type": "code",
   "execution_count": 6,
   "id": "7460162c",
   "metadata": {},
   "outputs": [
    {
     "data": {
      "text/plain": [
       "Text(0, 0.5, 'Owners in Millions')"
      ]
     },
     "execution_count": 6,
     "metadata": {},
     "output_type": "execute_result"
    },
    {
     "data": {
      "image/png": "[encoded data removed]",
      "text/plain": [
       "<Figure size 432x288 with 1 Axes>"
      ]
     },
     "metadata": {
      "needs_background": "light"
     },
     "output_type": "display_data"
    }
   ],
   "source": [
    "non_total_owner_ethnicity.plot(kind='bar')\n",
    "plt.title('Owner Ethnicity')\n",
    "plt.ylabel('Owners in Millions')\n",
    "#plt.savefig(r'Visuals\\OwnerEthnicity.png')"
   ]
  },
  {
   "cell_type": "markdown",
   "id": "1176793b",
   "metadata": {},
   "source": [
    "Let's do the same but now look at the breakdown by race"
   ]
  },
  {
   "cell_type": "code",
   "execution_count": 7,
   "id": "341c8617",
   "metadata": {},
   "outputs": [],
   "source": [
    "#unique values for race\n",
    "business_owner_race = business_owner_characteristics[(business_owner_characteristics['OwnerSex'] == 'All owners of respondent firms')\n",
    "                              & (business_owner_characteristics['OwnerEthnicity'] == 'All owners of respondent firms')\n",
    "                              & (business_owner_characteristics['VeteranStatus'] == 'All owners of respondent firms')\n",
    "                              & (business_owner_characteristics['OwnerResp'] == 'Total reporting')\n",
    "                              & (business_owner_characteristics['OwnerRace'] != 'All owners of respondent firms') & (business_owner_characteristics['OwnerRace'] != 'Minority') & (business_owner_characteristics['OwnerRace'] != 'Nonminority')]"
   ]
  },
  {
   "cell_type": "markdown",
   "id": "22d66b68",
   "metadata": {},
   "source": [
    "Again, we want to account for any variations in the number of responses for different questions"
   ]
  },
  {
   "cell_type": "code",
   "execution_count": 8,
   "id": "cb3009d1",
   "metadata": {},
   "outputs": [],
   "source": [
    "non_total_owner_race = business_owner_race.groupby('OwnerRace')['NumberOfOwners'].mean()"
   ]
  },
  {
   "cell_type": "markdown",
   "id": "3e87f01e",
   "metadata": {},
   "source": [
    "Now plotting the data"
   ]
  },
  {
   "cell_type": "code",
   "execution_count": 9,
   "id": "53386a56",
   "metadata": {},
   "outputs": [
    {
     "data": {
      "text/plain": [
       "Text(0.5, 0, 'Owners in Millions')"
      ]
     },
     "execution_count": 9,
     "metadata": {},
     "output_type": "execute_result"
    },
    {
     "data": {
      "image/png": "[encoded data removed]",
      "text/plain": [
       "<Figure size 432x288 with 1 Axes>"
      ]
     },
     "metadata": {
      "needs_background": "light"
     },
     "output_type": "display_data"
    }
   ],
   "source": [
    "non_total_owner_race.plot(kind='barh')\n",
    "plt.title('Owner Race')\n",
    "plt.xlabel('Owners in Millions')\n",
    "#plt.savefig(r'Visuals\\OwnerRace.png')"
   ]
  },
  {
   "cell_type": "markdown",
   "id": "16874a1b",
   "metadata": {},
   "source": [
    "Let's look at how the breakdown compares for business owners by sex"
   ]
  },
  {
   "cell_type": "code",
   "execution_count": 10,
   "id": "e7a716d4",
   "metadata": {},
   "outputs": [],
   "source": [
    "#Unique values for sex\n",
    "business_owner_sex = business_owner_characteristics[(business_owner_characteristics['OwnerSex'] != 'All owners of respondent firms')\n",
    "                              & (business_owner_characteristics['OwnerRace'] == 'All owners of respondent firms')\n",
    "                              & (business_owner_characteristics['VeteranStatus'] == 'All owners of respondent firms')\n",
    "                              & (business_owner_characteristics['OwnerResp'] == 'Total reporting')\n",
    "                              & (business_owner_characteristics['OwnerEthnicity'] == 'All owners of respondent firms')]"
   ]
  },
  {
   "cell_type": "code",
   "execution_count": 11,
   "id": "989f08e4",
   "metadata": {},
   "outputs": [],
   "source": [
    "non_total_owner_sex = business_owner_sex.groupby('OwnerSex')['NumberOfOwners'].mean()"
   ]
  },
  {
   "cell_type": "code",
   "execution_count": 12,
   "id": "e3db34f2",
   "metadata": {},
   "outputs": [
    {
     "data": {
      "text/plain": [
       "Text(0, 0.5, 'Owners in Millions')"
      ]
     },
     "execution_count": 12,
     "metadata": {},
     "output_type": "execute_result"
    },
    {
     "data": {
      "image/png": "[encoded data removed]",
      "text/plain": [
       "<Figure size 432x288 with 1 Axes>"
      ]
     },
     "metadata": {
      "needs_background": "light"
     },
     "output_type": "display_data"
    }
   ],
   "source": [
    "non_total_owner_sex.plot(kind='bar')\n",
    "plt.title('Owner Sex')\n",
    "plt.ylabel('Owners in Millions')\n",
    "#plt.savefig(r'Visuals\\OwnerSex.png')"
   ]
  },
  {
   "cell_type": "markdown",
   "id": "c8ce6129",
   "metadata": {},
   "source": [
    "For veteran status we could do the following:"
   ]
  },
  {
   "cell_type": "code",
   "execution_count": 13,
   "id": "9a975d3c",
   "metadata": {},
   "outputs": [],
   "source": [
    "#Owner Veteran Status\n",
    "business_owner_vetstatus = business_owner_characteristics[(business_owner_characteristics['OwnerSex'] == 'All owners of respondent firms')\n",
    "                              & (business_owner_characteristics['OwnerRace'] == 'All owners of respondent firms')\n",
    "                              & (business_owner_characteristics['VeteranStatus'] != 'All owners of respondent firms')\n",
    "                              & (business_owner_characteristics['OwnerResp'] == 'Total reporting')\n",
    "                              & (business_owner_characteristics['OwnerEthnicity'] == 'All owners of respondent firms')]"
   ]
  },
  {
   "cell_type": "code",
   "execution_count": 14,
   "id": "d465e1a1",
   "metadata": {},
   "outputs": [],
   "source": [
    "owner_vet_status = business_owner_vetstatus.groupby('VeteranStatus')['NumberOfOwners'].mean()"
   ]
  },
  {
   "cell_type": "code",
   "execution_count": 15,
   "id": "28ed5c5c",
   "metadata": {},
   "outputs": [
    {
     "data": {
      "text/plain": [
       "Text(0, 0.5, 'Owners in Millions')"
      ]
     },
     "execution_count": 15,
     "metadata": {},
     "output_type": "execute_result"
    },
    {
     "data": {
      "image/png": "[encoded data removed]",
      "text/plain": [
       "<Figure size 432x288 with 1 Axes>"
      ]
     },
     "metadata": {
      "needs_background": "light"
     },
     "output_type": "display_data"
    }
   ],
   "source": [
    "owner_vet_status.plot(kind='bar')\n",
    "plt.title('Owner Veteran Status')\n",
    "plt.ylabel('Owners in Millions')\n",
    "#plt.savefig(r'Visuals\\OwnerVeteranStatus.png')"
   ]
  },
  {
   "cell_type": "markdown",
   "id": "0df388bf",
   "metadata": {},
   "source": []
  }
 ],
 "metadata": {
  "kernelspec": {
   "display_name": "Python 3 (ipykernel)",
   "language": "python",
   "name": "python3"
  },
  "language_info": {
   "codemirror_mode": {
    "name": "ipython",
    "version": 3
   },
   "file_extension": ".py",
   "mimetype": "text/x-python",
   "name": "python",
   "nbconvert_exporter": "python",
   "pygments_lexer": "ipython3",
   "version": "3.9.12"
  }
 },
 "nbformat": 4,
 "nbformat_minor": 5
}
