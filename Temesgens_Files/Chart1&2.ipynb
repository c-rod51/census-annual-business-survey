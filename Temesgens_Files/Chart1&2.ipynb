{
 "cells": [
  {
   "cell_type": "code",
   "execution_count": 1,
   "metadata": {},
   "outputs": [],
   "source": [
    "import requests\n",
    "import pandas as pd\n",
    "my_key_variable = '290c4b1c7112bc7ca01c93d1f5b93fe905d2bfe0'\n",
    " \n",
    "url = 'https://api.census.gov/data/2017/abscs?get=GEO_ID,NAME,NAICS2017,NAICS2017_LABEL,SEX,SEX_LABEL,ETH_GROUP,ETH_GROUP_LABEL,RACE_GROUP,RACE_GROUP_LABEL,VET_GROUP,VET_GROUP_LABEL,EMPSZFI,EMPSZFI_LABEL,YEAR,FIRMPDEMP,FIRMPDEMP_F,RCPPDEMP,RCPPDEMP_F,EMP,EMP_F,PAYANN,PAYANN_F,FIRMPDEMP_S,FIRMPDEMP_S_F,RCPPDEMP_S,RCPPDEMP_S_F,EMP_S,EMP_S_F,PAYANN_S,PAYANN_S_F&for=us:*&key={}'.format(my_key_variable)\n",
    " \n",
    "response = requests.get(url)\n",
    "\n",
    "df = pd.DataFrame(response.json())\n",
    "\n",
    "new_header = df.iloc[0]\n",
    "df = df[1:]\n",
    "df.columns = new_header"
   ]
  },
  {
   "cell_type": "markdown",
   "metadata": {},
   "source": [
    "This is a temporary code block, I made it so I wouldn't have to keep rerunning the API request to refresh my data every time I f*** up the data frame. Then I checked to see what the original shape looked like."
   ]
  },
  {
   "cell_type": "code",
   "execution_count": 2,
   "metadata": {},
   "outputs": [
    {
     "data": {
      "text/plain": [
       "(72326, 32)"
      ]
     },
     "execution_count": 2,
     "metadata": {},
     "output_type": "execute_result"
    }
   ],
   "source": [
    "Data = df\n",
    "Data.shape"
   ]
  },
  {
   "cell_type": "markdown",
   "metadata": {},
   "source": [
    "This block is for pulling only the columns I wanted."
   ]
  },
  {
   "cell_type": "code",
   "execution_count": 3,
   "metadata": {},
   "outputs": [
    {
     "data": {
      "text/plain": [
       "(72326, 10)"
      ]
     },
     "execution_count": 3,
     "metadata": {},
     "output_type": "execute_result"
    }
   ],
   "source": [
    "# List of original columns\n",
    "# 'GEO_ID', 'NAME', 'NAICS2017', 'NAICS2017_LABEL', 'SEX', 'SEX_LABEL',\n",
    "# 'ETH_GROUP', 'ETH_GROUP_LABEL', 'RACE_GROUP', 'RACE_GROUP_LABEL',\n",
    "# 'VET_GROUP', 'VET_GROUP_LABEL', 'EMPSZFI', 'EMPSZFI_LABEL', 'YEAR',\n",
    "# 'FIRMPDEMP', 'FIRMPDEMP_F', 'RCPPDEMP', 'RCPPDEMP_F', 'EMP', 'EMP_F',\n",
    "# 'PAYANN', 'PAYANN_F', 'FIRMPDEMP_S', 'FIRMPDEMP_S_F', 'RCPPDEMP_S',\n",
    "# 'RCPPDEMP_S_F', 'EMP_S', 'EMP_S_F', 'PAYANN_S', 'PAYANN_S_F', 'us'\n",
    "\n",
    "table = Data[['NAICS2017_LABEL','SEX_LABEL','ETH_GROUP_LABEL','RACE_GROUP_LABEL','VET_GROUP_LABEL','EMPSZFI_LABEL','FIRMPDEMP','RCPPDEMP','EMP','PAYANN']]\n",
    "table.shape"
   ]
  },
  {
   "cell_type": "markdown",
   "metadata": {},
   "source": [
    "Filtered the dataframe to only look at the total data for each Firm Size. You can see the rows dropped to only have one entry for each of the 10 firm sizes."
   ]
  },
  {
   "cell_type": "code",
   "execution_count": 4,
   "metadata": {},
   "outputs": [
    {
     "data": {
      "text/plain": [
       "(10, 10)"
      ]
     },
     "execution_count": 4,
     "metadata": {},
     "output_type": "execute_result"
    }
   ],
   "source": [
    "table = table[table['NAICS2017_LABEL'] == 'Total for all sectors']\n",
    "table = table[table['SEX_LABEL'] == 'Total']\n",
    "table = table[table['ETH_GROUP_LABEL'] == 'Total']\n",
    "table = table[table['RACE_GROUP_LABEL'] == 'Total']\n",
    "table = table[table['VET_GROUP_LABEL'] == 'Total']\n",
    "table.shape"
   ]
  },
  {
   "cell_type": "markdown",
   "metadata": {},
   "source": [
    "1. Seperated the \"string\" columns, and changed the datatypes for the \"number\" columns to float. I stored the \"string\" column and \"number\" column into different dataframes, then added the \"string\" column to the \"numbers\" dataframe. I might've did more code than I needed to, but I was running into a lot of errors and this was the only way I could get it to work.\n",
    "\n",
    "2. Filtered out the \"All firms\" row, then created an \"Average_Revenue\" column that divides the total revenue by the number of firms for each firm size category."
   ]
  },
  {
   "cell_type": "code",
   "execution_count": 5,
   "metadata": {},
   "outputs": [
    {
     "name": "stderr",
     "output_type": "stream",
     "text": [
      "C:\\Users\\temes\\AppData\\Local\\Temp\\ipykernel_16188\\4292409199.py:5: SettingWithCopyWarning: \n",
      "A value is trying to be set on a copy of a slice from a DataFrame.\n",
      "Try using .loc[row_indexer,col_indexer] = value instead\n",
      "\n",
      "See the caveats in the documentation: https://pandas.pydata.org/pandas-docs/stable/user_guide/indexing.html#returning-a-view-versus-a-copy\n",
      "  business['Average_Revenue'] = business['RCPPDEMP']/business['FIRMPDEMP']\n"
     ]
    },
    {
     "data": {
      "text/html": [
       "<div>\n",
       "<style scoped>\n",
       "    .dataframe tbody tr th:only-of-type {\n",
       "        vertical-align: middle;\n",
       "    }\n",
       "\n",
       "    .dataframe tbody tr th {\n",
       "        vertical-align: top;\n",
       "    }\n",
       "\n",
       "    .dataframe thead th {\n",
       "        text-align: right;\n",
       "    }\n",
       "</style>\n",
       "<table border=\"1\" class=\"dataframe\">\n",
       "  <thead>\n",
       "    <tr style=\"text-align: right;\">\n",
       "      <th></th>\n",
       "      <th>FIRMPDEMP</th>\n",
       "      <th>RCPPDEMP</th>\n",
       "      <th>EMP</th>\n",
       "      <th>PAYANN</th>\n",
       "      <th>EMPSZFI_LABEL</th>\n",
       "      <th>Average_Revenue</th>\n",
       "    </tr>\n",
       "  </thead>\n",
       "  <tbody>\n",
       "    <tr>\n",
       "      <th>42</th>\n",
       "      <td>591329.0</td>\n",
       "      <td>2.464916e+08</td>\n",
       "      <td>0.0</td>\n",
       "      <td>3.226306e+07</td>\n",
       "      <td>Firms with no employees</td>\n",
       "      <td>4.168434e+02</td>\n",
       "    </tr>\n",
       "    <tr>\n",
       "      <th>43</th>\n",
       "      <td>2934409.0</td>\n",
       "      <td>1.246892e+09</td>\n",
       "      <td>5737290.0</td>\n",
       "      <td>2.104015e+08</td>\n",
       "      <td>Firms with 1 to 4 employees</td>\n",
       "      <td>4.249210e+02</td>\n",
       "    </tr>\n",
       "    <tr>\n",
       "      <th>44</th>\n",
       "      <td>956312.0</td>\n",
       "      <td>1.227386e+09</td>\n",
       "      <td>6299539.0</td>\n",
       "      <td>2.385639e+08</td>\n",
       "      <td>Firms with 5 to 9 employees</td>\n",
       "      <td>1.283457e+03</td>\n",
       "    </tr>\n",
       "    <tr>\n",
       "      <th>45</th>\n",
       "      <td>611858.0</td>\n",
       "      <td>1.526806e+09</td>\n",
       "      <td>8228901.0</td>\n",
       "      <td>3.199981e+08</td>\n",
       "      <td>Firms with 10 to 19 employees</td>\n",
       "      <td>2.495360e+03</td>\n",
       "    </tr>\n",
       "    <tr>\n",
       "      <th>46</th>\n",
       "      <td>409422.0</td>\n",
       "      <td>2.360975e+09</td>\n",
       "      <td>12314188.0</td>\n",
       "      <td>5.023726e+08</td>\n",
       "      <td>Firms with 20 to 49 employees</td>\n",
       "      <td>5.766605e+03</td>\n",
       "    </tr>\n",
       "    <tr>\n",
       "      <th>47</th>\n",
       "      <td>128418.0</td>\n",
       "      <td>1.948598e+09</td>\n",
       "      <td>8817581.0</td>\n",
       "      <td>3.985723e+08</td>\n",
       "      <td>Firms with 50 to 99 employees</td>\n",
       "      <td>1.517387e+04</td>\n",
       "    </tr>\n",
       "    <tr>\n",
       "      <th>48</th>\n",
       "      <td>70833.0</td>\n",
       "      <td>2.682542e+09</td>\n",
       "      <td>10732919.0</td>\n",
       "      <td>5.217303e+08</td>\n",
       "      <td>Firms with 100 to 249 employees</td>\n",
       "      <td>3.787136e+04</td>\n",
       "    </tr>\n",
       "    <tr>\n",
       "      <th>49</th>\n",
       "      <td>21646.0</td>\n",
       "      <td>1.907611e+09</td>\n",
       "      <td>7453703.0</td>\n",
       "      <td>3.836787e+08</td>\n",
       "      <td>Firms with 250 to 499 employees</td>\n",
       "      <td>8.812765e+04</td>\n",
       "    </tr>\n",
       "    <tr>\n",
       "      <th>50</th>\n",
       "      <td>20416.0</td>\n",
       "      <td>2.343227e+10</td>\n",
       "      <td>68154153.0</td>\n",
       "      <td>3.926691e+09</td>\n",
       "      <td>Firms with 500 employees or more</td>\n",
       "      <td>1.147741e+06</td>\n",
       "    </tr>\n",
       "  </tbody>\n",
       "</table>\n",
       "</div>"
      ],
      "text/plain": [
       "0   FIRMPDEMP      RCPPDEMP         EMP        PAYANN  \\\n",
       "42   591329.0  2.464916e+08         0.0  3.226306e+07   \n",
       "43  2934409.0  1.246892e+09   5737290.0  2.104015e+08   \n",
       "44   956312.0  1.227386e+09   6299539.0  2.385639e+08   \n",
       "45   611858.0  1.526806e+09   8228901.0  3.199981e+08   \n",
       "46   409422.0  2.360975e+09  12314188.0  5.023726e+08   \n",
       "47   128418.0  1.948598e+09   8817581.0  3.985723e+08   \n",
       "48    70833.0  2.682542e+09  10732919.0  5.217303e+08   \n",
       "49    21646.0  1.907611e+09   7453703.0  3.836787e+08   \n",
       "50    20416.0  2.343227e+10  68154153.0  3.926691e+09   \n",
       "\n",
       "0                      EMPSZFI_LABEL  Average_Revenue  \n",
       "42           Firms with no employees     4.168434e+02  \n",
       "43       Firms with 1 to 4 employees     4.249210e+02  \n",
       "44       Firms with 5 to 9 employees     1.283457e+03  \n",
       "45     Firms with 10 to 19 employees     2.495360e+03  \n",
       "46     Firms with 20 to 49 employees     5.766605e+03  \n",
       "47     Firms with 50 to 99 employees     1.517387e+04  \n",
       "48   Firms with 100 to 249 employees     3.787136e+04  \n",
       "49   Firms with 250 to 499 employees     8.812765e+04  \n",
       "50  Firms with 500 employees or more     1.147741e+06  "
      ]
     },
     "execution_count": 5,
     "metadata": {},
     "output_type": "execute_result"
    }
   ],
   "source": [
    "# 1\n",
    "businessSize = table['EMPSZFI_LABEL']\n",
    "businessNums = table[['FIRMPDEMP','RCPPDEMP','EMP','PAYANN']].astype('float')\n",
    "businessNums['EMPSZFI_LABEL'] = businessSize\n",
    "\n",
    "# 2\n",
    "business = businessNums[businessNums['EMPSZFI_LABEL'] != 'All firms']\n",
    "business['Average_Revenue'] = business['RCPPDEMP']/business['FIRMPDEMP']\n",
    "business.head(10)"
   ]
  },
  {
   "cell_type": "markdown",
   "metadata": {},
   "source": [
    "Created Chart1"
   ]
  },
  {
   "cell_type": "code",
   "execution_count": 6,
   "metadata": {},
   "outputs": [
    {
     "data": {
      "image/png": "[encoded data removed]",
      "text/plain": [
       "<Figure size 432x288 with 1 Axes>"
      ]
     },
     "metadata": {
      "needs_background": "light"
     },
     "output_type": "display_data"
    }
   ],
   "source": [
    "import matplotlib.pyplot as plt\n",
    "%matplotlib inline\n",
    "\n",
    "ax = business.plot(title = 'Firm Size vs Revenue',kind='bar',x='EMPSZFI_LABEL',y='Average_Revenue')\n",
    "ax.set_xlabel('Firm Size')\n",
    "ax.set_ylabel('Average_Revenue')\n",
    "plt.show()"
   ]
  },
  {
   "cell_type": "markdown",
   "metadata": {},
   "source": [
    "1. Removed the \"Firms with no employees\" row, so it wouldn't mess up the formula for the \"Average_Payroll\" column\n",
    "\n",
    "2. Created an \"Average_Payroll\" column by dividing the annual payroll by the number of employees for each firm size category"
   ]
  },
  {
   "cell_type": "code",
   "execution_count": 7,
   "metadata": {},
   "outputs": [
    {
     "name": "stderr",
     "output_type": "stream",
     "text": [
      "C:\\Users\\temes\\AppData\\Local\\Temp\\ipykernel_16188\\3940597578.py:3: SettingWithCopyWarning: \n",
      "A value is trying to be set on a copy of a slice from a DataFrame.\n",
      "Try using .loc[row_indexer,col_indexer] = value instead\n",
      "\n",
      "See the caveats in the documentation: https://pandas.pydata.org/pandas-docs/stable/user_guide/indexing.html#returning-a-view-versus-a-copy\n",
      "  business2['Average_Payroll'] = business2['PAYANN']/business['EMP']\n"
     ]
    },
    {
     "data": {
      "text/html": [
       "<div>\n",
       "<style scoped>\n",
       "    .dataframe tbody tr th:only-of-type {\n",
       "        vertical-align: middle;\n",
       "    }\n",
       "\n",
       "    .dataframe tbody tr th {\n",
       "        vertical-align: top;\n",
       "    }\n",
       "\n",
       "    .dataframe thead th {\n",
       "        text-align: right;\n",
       "    }\n",
       "</style>\n",
       "<table border=\"1\" class=\"dataframe\">\n",
       "  <thead>\n",
       "    <tr style=\"text-align: right;\">\n",
       "      <th></th>\n",
       "      <th>FIRMPDEMP</th>\n",
       "      <th>RCPPDEMP</th>\n",
       "      <th>EMP</th>\n",
       "      <th>PAYANN</th>\n",
       "      <th>EMPSZFI_LABEL</th>\n",
       "      <th>Average_Revenue</th>\n",
       "      <th>Average_Payroll</th>\n",
       "    </tr>\n",
       "  </thead>\n",
       "  <tbody>\n",
       "    <tr>\n",
       "      <th>43</th>\n",
       "      <td>2934409.0</td>\n",
       "      <td>1.246892e+09</td>\n",
       "      <td>5737290.0</td>\n",
       "      <td>2.104015e+08</td>\n",
       "      <td>Firms with 1 to 4 employees</td>\n",
       "      <td>4.249210e+02</td>\n",
       "      <td>36.672627</td>\n",
       "    </tr>\n",
       "    <tr>\n",
       "      <th>44</th>\n",
       "      <td>956312.0</td>\n",
       "      <td>1.227386e+09</td>\n",
       "      <td>6299539.0</td>\n",
       "      <td>2.385639e+08</td>\n",
       "      <td>Firms with 5 to 9 employees</td>\n",
       "      <td>1.283457e+03</td>\n",
       "      <td>37.870059</td>\n",
       "    </tr>\n",
       "    <tr>\n",
       "      <th>45</th>\n",
       "      <td>611858.0</td>\n",
       "      <td>1.526806e+09</td>\n",
       "      <td>8228901.0</td>\n",
       "      <td>3.199981e+08</td>\n",
       "      <td>Firms with 10 to 19 employees</td>\n",
       "      <td>2.495360e+03</td>\n",
       "      <td>38.887099</td>\n",
       "    </tr>\n",
       "    <tr>\n",
       "      <th>46</th>\n",
       "      <td>409422.0</td>\n",
       "      <td>2.360975e+09</td>\n",
       "      <td>12314188.0</td>\n",
       "      <td>5.023726e+08</td>\n",
       "      <td>Firms with 20 to 49 employees</td>\n",
       "      <td>5.766605e+03</td>\n",
       "      <td>40.796246</td>\n",
       "    </tr>\n",
       "    <tr>\n",
       "      <th>47</th>\n",
       "      <td>128418.0</td>\n",
       "      <td>1.948598e+09</td>\n",
       "      <td>8817581.0</td>\n",
       "      <td>3.985723e+08</td>\n",
       "      <td>Firms with 50 to 99 employees</td>\n",
       "      <td>1.517387e+04</td>\n",
       "      <td>45.202004</td>\n",
       "    </tr>\n",
       "    <tr>\n",
       "      <th>48</th>\n",
       "      <td>70833.0</td>\n",
       "      <td>2.682542e+09</td>\n",
       "      <td>10732919.0</td>\n",
       "      <td>5.217303e+08</td>\n",
       "      <td>Firms with 100 to 249 employees</td>\n",
       "      <td>3.787136e+04</td>\n",
       "      <td>48.610287</td>\n",
       "    </tr>\n",
       "    <tr>\n",
       "      <th>49</th>\n",
       "      <td>21646.0</td>\n",
       "      <td>1.907611e+09</td>\n",
       "      <td>7453703.0</td>\n",
       "      <td>3.836787e+08</td>\n",
       "      <td>Firms with 250 to 499 employees</td>\n",
       "      <td>8.812765e+04</td>\n",
       "      <td>51.474906</td>\n",
       "    </tr>\n",
       "    <tr>\n",
       "      <th>50</th>\n",
       "      <td>20416.0</td>\n",
       "      <td>2.343227e+10</td>\n",
       "      <td>68154153.0</td>\n",
       "      <td>3.926691e+09</td>\n",
       "      <td>Firms with 500 employees or more</td>\n",
       "      <td>1.147741e+06</td>\n",
       "      <td>57.614840</td>\n",
       "    </tr>\n",
       "  </tbody>\n",
       "</table>\n",
       "</div>"
      ],
      "text/plain": [
       "0   FIRMPDEMP      RCPPDEMP         EMP        PAYANN  \\\n",
       "43  2934409.0  1.246892e+09   5737290.0  2.104015e+08   \n",
       "44   956312.0  1.227386e+09   6299539.0  2.385639e+08   \n",
       "45   611858.0  1.526806e+09   8228901.0  3.199981e+08   \n",
       "46   409422.0  2.360975e+09  12314188.0  5.023726e+08   \n",
       "47   128418.0  1.948598e+09   8817581.0  3.985723e+08   \n",
       "48    70833.0  2.682542e+09  10732919.0  5.217303e+08   \n",
       "49    21646.0  1.907611e+09   7453703.0  3.836787e+08   \n",
       "50    20416.0  2.343227e+10  68154153.0  3.926691e+09   \n",
       "\n",
       "0                      EMPSZFI_LABEL  Average_Revenue  Average_Payroll  \n",
       "43       Firms with 1 to 4 employees     4.249210e+02        36.672627  \n",
       "44       Firms with 5 to 9 employees     1.283457e+03        37.870059  \n",
       "45     Firms with 10 to 19 employees     2.495360e+03        38.887099  \n",
       "46     Firms with 20 to 49 employees     5.766605e+03        40.796246  \n",
       "47     Firms with 50 to 99 employees     1.517387e+04        45.202004  \n",
       "48   Firms with 100 to 249 employees     3.787136e+04        48.610287  \n",
       "49   Firms with 250 to 499 employees     8.812765e+04        51.474906  \n",
       "50  Firms with 500 employees or more     1.147741e+06        57.614840  "
      ]
     },
     "execution_count": 7,
     "metadata": {},
     "output_type": "execute_result"
    }
   ],
   "source": [
    "# 1\n",
    "business2 = business[business['EMPSZFI_LABEL'] != 'Firms with no employees']\n",
    "\n",
    "# 2\n",
    "business2['Average_Payroll'] = business2['PAYANN']/business['EMP']\n",
    "business2.head(10)"
   ]
  },
  {
   "cell_type": "markdown",
   "metadata": {},
   "source": [
    "Created Chart2"
   ]
  },
  {
   "cell_type": "code",
   "execution_count": 8,
   "metadata": {},
   "outputs": [
    {
     "data": {
      "image/png": "[encoded data removed]",
      "text/plain": [
       "<Figure size 432x288 with 1 Axes>"
      ]
     },
     "metadata": {
      "needs_background": "light"
     },
     "output_type": "display_data"
    }
   ],
   "source": [
    "ax = business2.plot(title = 'Firm Size vs Payroll',kind='bar',x='EMPSZFI_LABEL',y='Average_Payroll')\n",
    "ax.set_xlabel('Firm Size')\n",
    "ax.set_ylabel('Average_Payroll')\n",
    "plt.show()"
   ]
  },
  {
   "cell_type": "code",
   "execution_count": null,
   "metadata": {},
   "outputs": [],
   "source": []
  }
 ],
 "metadata": {
  "kernelspec": {
   "display_name": "Python 3.9.12 ('base')",
   "language": "python",
   "name": "python3"
  },
  "language_info": {
   "codemirror_mode": {
    "name": "ipython",
    "version": 3
   },
   "file_extension": ".py",
   "mimetype": "text/x-python",
   "name": "python",
   "nbconvert_exporter": "python",
   "pygments_lexer": "ipython3",
   "version": "3.9.12"
  },
  "orig_nbformat": 4,
  "vscode": {
   "interpreter": {
    "hash": "96fffdd498598dc357c61a781eb2beb67838f6185ce225f0f99bb948831ae793"
   }
  }
 },
 "nbformat": 4,
 "nbformat_minor": 2
}
